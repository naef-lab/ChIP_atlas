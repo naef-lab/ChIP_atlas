{
 "cells": [
  {
   "cell_type": "code",
   "execution_count": 5,
   "metadata": {},
   "outputs": [
    {
     "name": "stdout",
     "output_type": "stream",
     "text": [
      "0.15817901234567902\n",
      "2890 2275 2611\n"
     ]
    },
    {
     "data": {
      "image/png": "[encoded data removed]",
      "text/plain": [
       "<Figure size 400x200 with 1 Axes>"
      ]
     },
     "metadata": {},
     "output_type": "display_data"
    }
   ],
   "source": [
    "import numpy as np\n",
    "import matplotlib.pyplot as plt\n",
    "\n",
    "N = 6\n",
    "A_win = 0\n",
    "D_win = 0\n",
    "Draw = 0\n",
    "\n",
    "for i in range(N):\n",
    "    for j in range(N):\n",
    "        for k in range(N):\n",
    "            for l in range(N):\n",
    "                for m in range(N):\n",
    "                    a = np.sort(np.array([i, j, k]))[1:]\n",
    "                    d = np.sort(np.array([l, m]))\n",
    "                    \n",
    "                    if np.all(a > d):\n",
    "                        A_win += 1\n",
    "                    elif np.all(a <= d):\n",
    "                        D_win += 1\n",
    "                    else:\n",
    "                        Draw += 1\n",
    "\n",
    "print( (A_win*2 + D_win*-2)/(N**5))\n",
    "print(A_win, D_win, Draw)\n",
    "\n",
    "fig, ax = plt.subplots(1, 1, figsize=(4,2))\n",
    "ax.barh([0, 1, 2], [A_win, D_win, Draw]);\n",
    "ax.set_yticks([0, 1, 2], ['A win', 'D win', 'Draw']);"
   ]
  },
  {
   "cell_type": "code",
   "execution_count": 7,
   "metadata": {},
   "outputs": [
    {
     "name": "stdout",
     "output_type": "stream",
     "text": [
      "0.6388888888888888\n",
      "855 441 0\n"
     ]
    },
    {
     "data": {
      "image/png": "[encoded data removed]",
      "text/plain": [
       "<Figure size 400x200 with 1 Axes>"
      ]
     },
     "metadata": {},
     "output_type": "display_data"
    }
   ],
   "source": [
    "N = 6\n",
    "A_win = 0\n",
    "D_win = 0\n",
    "Draw = 0\n",
    "\n",
    "for i in range(N):\n",
    "    for j in range(N):\n",
    "        for k in range(N):\n",
    "            for l in range(N):\n",
    "            \n",
    "                a = np.sort(np.array([i, j, k]))[2:]\n",
    "                d = np.sort(np.array([l]))\n",
    "                \n",
    "                if np.all(a > d):\n",
    "                    A_win += 1\n",
    "                elif np.all(a <= d):\n",
    "                    D_win += 1\n",
    "                else:\n",
    "                    Draw += 1\n",
    "\n",
    "print( (A_win*2 + D_win*-2)/(N**4))\n",
    "print(A_win, D_win, Draw)\n",
    "\n",
    "fig, ax = plt.subplots(1, 1, figsize=(4,2))\n",
    "ax.barh([0, 1, 2], [A_win, D_win, Draw]);\n",
    "ax.set_yticks([0, 1, 2], ['A win', 'D win', 'Draw']);"
   ]
  }
 ],
 "metadata": {
  "kernelspec": {
   "display_name": "base",
   "language": "python",
   "name": "python3"
  },
  "language_info": {
   "codemirror_mode": {
    "name": "ipython",
    "version": 3
   },
   "file_extension": ".py",
   "mimetype": "text/x-python",
   "name": "python",
   "nbconvert_exporter": "python",
   "pygments_lexer": "ipython3",
   "version": "3.12.2"
  }
 },
 "nbformat": 4,
 "nbformat_minor": 2
}
