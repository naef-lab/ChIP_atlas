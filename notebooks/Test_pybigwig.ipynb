{
 "cells": [
  {
   "cell_type": "code",
   "execution_count": 1,
   "metadata": {},
   "outputs": [],
   "source": [
    "import pandas as pd\n",
    "import numpy as np\n",
    "import h5py\n",
    "import pyBigWig"
   ]
  },
  {
   "cell_type": "code",
   "execution_count": 6,
   "metadata": {},
   "outputs": [],
   "source": [
    "genome = 'mm10'\n",
    "window_kb = 5\n",
    "bin_size = 10\n",
    "\n",
    "# get promoterome\n",
    "infile_promoterome=f\"/home/jbreda/Promoterome/results/{genome}/promoterome_pm{window_kb}kb_filtered_clustered_sorted.bed\"\n",
    "promoterome = pd.read_csv(infile_promoterome,sep='\\t')\n",
    "idx_minus_strand = (promoterome.strand=='-').values\n",
    "N_prom = promoterome.shape[0]\n",
    "\n",
    "# get one tf\n",
    "my_tf = 'Rara'\n",
    "infile_svd = f'../results/{genome}/svd/Window_pm{window_kb}kb_bin_size_{bin_size}/{my_tf}.hdf5'\n",
    "with h5py.File(infile_svd, 'r') as hf:\n",
    "    u = hf['U'][:,0]\n",
    "    s = hf['S'][0]\n",
    "    N_pos = hf['U'].shape[0]//N_prom\n",
    "\n",
    "chip = np.reshape(u*s,[N_prom,N_pos]).T\n",
    "# flip promoters on minus strand\n",
    "chip[:,idx_minus_strand] = chip[:,idx_minus_strand][:,::-1]\n",
    "#chip[np.isnan(chip)] = 0"
   ]
  },
  {
   "cell_type": "code",
   "execution_count": 23,
   "metadata": {},
   "outputs": [
    {
     "name": "stdout",
     "output_type": "stream",
     "text": [
      "chr1\n",
      "chr10\n",
      "chr11\n",
      "chr12\n",
      "chr13\n",
      "chr14\n",
      "chr15\n",
      "chr16\n",
      "chr17\n",
      "chr18\n",
      "chr19\n",
      "chr2\n",
      "chr3\n",
      "chr4\n",
      "chr5\n",
      "chr6\n",
      "chr7\n",
      "chr8\n",
      "chr9\n",
      "chrX\n",
      "chrY\n"
     ]
    }
   ],
   "source": [
    "\n",
    "# get chrom size\n",
    "chrom_size_file = '../genome/mm10/Mus_musculus.GRCm38.dna.primary_assembly.chrom_size'\n",
    "chr_size = []\n",
    "chr_values = {}\n",
    "CHR = promoterome.chr.unique()\n",
    "with open(chrom_size_file,'r') as f:\n",
    "    for l in f.readlines():\n",
    "        l = l.strip()\n",
    "        chr = 'chr'+l.split('\\t')[0]\n",
    "        size = int(l.split('\\t')[1])\n",
    "        if chr in CHR:\n",
    "            chr_size.append((chr,size))\n",
    "            chr_values[chr] = np.zeros(int(np.ceil(size/bin_size)))\n",
    "\n",
    "# fill in chr_values\n",
    "for p in range(N_prom):\n",
    "    # skip if all nan\n",
    "    if np.all(np.isnan( chip[:,p] )):\n",
    "        continue\n",
    "\n",
    "    # get absolute and relative idx\n",
    "    chr = promoterome.at[p,'chr']\n",
    "    start_idx = int(np.ceil(promoterome.at[p,'start']/bin_size))\n",
    "    rel_idx =  np.where( ~np.isnan(chip[:,p]) )[0]\n",
    "    idx = start_idx + rel_idx\n",
    "\n",
    "    # add values\n",
    "    chr_values[chr][idx] = chr_values[chr][idx] + chip[rel_idx,p]\n",
    "\n",
    "# write bigwig\n",
    "with pyBigWig.open('../results/mm10/svd/Window_pm5kb_bin_size_10/Rara.bw', 'w') as bw:\n",
    "\n",
    "    # add headers\n",
    "    bw.addHeader(chr_size)\n",
    "\n",
    "    # fill in the big wig chr by chr\n",
    "    for chr in chr_values.keys():\n",
    "        print(chr)\n",
    "        \n",
    "        # get indices with non zero values\n",
    "        idx = np.where( chr_values[chr] != 0 )[0]\n",
    "\n",
    "        # get coordinates and values\n",
    "        chrs = idx.shape[0]*[chr]\n",
    "        starts = idx*bin_size\n",
    "        ends = starts + bin_size\n",
    "        values = chr_values[chr][idx]\n",
    "\n",
    "        # add entries\n",
    "        bw.addEntries(chrs, starts, ends, values)\n"
   ]
  }
 ],
 "metadata": {
  "kernelspec": {
   "display_name": "chip",
   "language": "python",
   "name": "python3"
  },
  "language_info": {
   "codemirror_mode": {
    "name": "ipython",
    "version": 3
   },
   "file_extension": ".py",
   "mimetype": "text/x-python",
   "name": "python",
   "nbconvert_exporter": "python",
   "pygments_lexer": "ipython3",
   "version": "3.10.13"
  }
 },
 "nbformat": 4,
 "nbformat_minor": 2
}
