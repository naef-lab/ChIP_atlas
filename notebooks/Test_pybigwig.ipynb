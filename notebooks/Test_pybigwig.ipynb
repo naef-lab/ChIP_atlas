{
 "cells": [
  {
   "cell_type": "code",
   "execution_count": 1,
   "metadata": {},
   "outputs": [],
   "source": [
    "import pandas as pd\n",
    "import numpy as np\n",
    "import h5py\n",
    "import pyBigWig"
   ]
  },
  {
   "cell_type": "code",
   "execution_count": 18,
   "metadata": {},
   "outputs": [
    {
     "ename": "RuntimeError",
     "evalue": "The entries you tried to add are out of order, precede already added entries, or otherwise use illegal values.\n Please correct this and try again.\n",
     "output_type": "error",
     "traceback": [
      "\u001b[0;31m---------------------------------------------------------------------------\u001b[0m",
      "\u001b[0;31mRuntimeError\u001b[0m                              Traceback (most recent call last)",
      "Cell \u001b[0;32mIn[18], line 79\u001b[0m\n\u001b[1;32m     76\u001b[0m values \u001b[38;5;241m=\u001b[39m chr_values[\u001b[38;5;28mchr\u001b[39m][idx]\n\u001b[1;32m     78\u001b[0m \u001b[38;5;66;03m# add entries\u001b[39;00m\n\u001b[0;32m---> 79\u001b[0m \u001b[43mbw\u001b[49m\u001b[38;5;241;43m.\u001b[39;49m\u001b[43maddEntries\u001b[49m\u001b[43m(\u001b[49m\u001b[43mchrs\u001b[49m\u001b[43m,\u001b[49m\u001b[43m \u001b[49m\u001b[43mstarts\u001b[49m\u001b[43m,\u001b[49m\u001b[43m \u001b[49m\u001b[43mends\u001b[49m\u001b[43m,\u001b[49m\u001b[43m \u001b[49m\u001b[43mvalues\u001b[49m\u001b[43m)\u001b[49m\n",
      "\u001b[0;31mRuntimeError\u001b[0m: The entries you tried to add are out of order, precede already added entries, or otherwise use illegal values.\n Please correct this and try again.\n"
     ]
    }
   ],
   "source": [
    "genome = 'mm10'\n",
    "window_kb = 5\n",
    "bin_size = 10\n",
    "\n",
    "genome = 'hg38'\n",
    "window_kb = 5\n",
    "bin_size = 10\n",
    "my_tf='PRMT6'\n",
    "\n",
    "# get promoterome\n",
    "infile_promoterome=f\"/home/jbreda/Promoterome/results/{genome}/promoterome_pm{window_kb}kb_filtered_clustered_sorted.bed\"\n",
    "promoterome = pd.read_csv(infile_promoterome,sep='\\t')\n",
    "N_prom = promoterome.shape[0]\n",
    "\n",
    "# get one tf\n",
    "infile_svd = f'../results/{genome}/svd/Window_pm{window_kb}kb_bin_size_{bin_size}/{my_tf}.hdf5'\n",
    "with h5py.File(infile_svd, 'r') as hf:\n",
    "    u = hf['U'][:,0]\n",
    "    s = hf['S'][0]\n",
    "    N_pos = hf['U'].shape[0]//N_prom\n",
    "\n",
    "chip = np.reshape(u*s,[N_prom,N_pos]).T\n",
    "\n",
    "# get chrom size and initialize chr_values\n",
    "chrom_size_file = f\"../resources/{genome}.chrom.sizes\"\n",
    "chr_size = []\n",
    "chr_values = {}\n",
    "CHR = promoterome.chr.unique()\n",
    "with open(chrom_size_file,'r') as f:\n",
    "    for l in f.readlines():\n",
    "        l = l.strip()\n",
    "        chr = 'chr'+l.split('\\t')[0]\n",
    "        size = int(l.split('\\t')[1])\n",
    "        if chr in CHR:\n",
    "            chr_size.append((chr,size))\n",
    "            chr_values[chr] = np.zeros(int(np.ceil(size/bin_size)))\n",
    "\n",
    "# fill in chr_values with chip signal\n",
    "for p in range(N_prom):\n",
    "\n",
    "    # skip if all nan\n",
    "    if np.all(np.isnan( chip[:,p] )):\n",
    "        continue\n",
    "\n",
    "    # skip if all zero\n",
    "    if np.all( chip[:,p] == 0 ):\n",
    "        continue\n",
    "\n",
    "    # get absolute and relative idx\n",
    "    chr = promoterome.at[p,'chr']\n",
    "    start_idx = int(np.ceil(promoterome.at[p,'start']/bin_size))\n",
    "    rel_idx =  np.where( ~np.isnan(chip[:,p]) )[0]\n",
    "    idx = start_idx + rel_idx\n",
    "\n",
    "    # add values\n",
    "    chr_values[chr][idx] = chip[rel_idx,p]\n",
    "    # if 2 promoters are overlaping the same bin, the chip signal is the same for both\n",
    "\n",
    "# write bigwig\n",
    "outfile = 'tmp_output.bw'\n",
    "with pyBigWig.open(outfile, 'w') as bw:\n",
    "\n",
    "    # add headers\n",
    "    bw.addHeader(chr_size)\n",
    "\n",
    "    # fill in the big wig chr by chr\n",
    "    for chr in chr_values.keys():\n",
    "        \n",
    "        # get indices with non zero values\n",
    "        idx = np.where( chr_values[chr] != 0 )[0]\n",
    "\n",
    "        # get coordinates and values\n",
    "        chrs = idx.shape[0]*[chr]\n",
    "        starts = idx*bin_size\n",
    "        ends = starts + bin_size\n",
    "        values = chr_values[chr][idx]\n",
    "\n",
    "        # add entries\n",
    "        bw.addEntries(chrs, starts, ends, values)"
   ]
  },
  {
   "cell_type": "code",
   "execution_count": 14,
   "metadata": {},
   "outputs": [
    {
     "data": {
      "text/plain": [
       "0"
      ]
     },
     "execution_count": 14,
     "metadata": {},
     "output_type": "execute_result"
    }
   ],
   "source": [
    "\n",
    "len(idx)"
   ]
  }
 ],
 "metadata": {
  "kernelspec": {
   "display_name": "chip",
   "language": "python",
   "name": "python3"
  },
  "language_info": {
   "codemirror_mode": {
    "name": "ipython",
    "version": 3
   },
   "file_extension": ".py",
   "mimetype": "text/x-python",
   "name": "python",
   "nbconvert_exporter": "python",
   "pygments_lexer": "ipython3",
   "version": "3.10.13"
  }
 },
 "nbformat": 4,
 "nbformat_minor": 2
}
