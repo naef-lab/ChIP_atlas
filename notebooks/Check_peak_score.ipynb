{
 "cells": [
  {
   "cell_type": "code",
   "execution_count": 34,
   "metadata": {},
   "outputs": [],
   "source": [
    "import pandas as pd\n",
    "import numpy as np\n",
    "import matplotlib.pyplot as plt\n",
    "import h5py\n",
    "import torch"
   ]
  },
  {
   "cell_type": "code",
   "execution_count": 2,
   "metadata": {},
   "outputs": [],
   "source": [
    "# parameters\n",
    "genome = 'mm10'\n",
    "window_kb = 5\n",
    "\n",
    "# load promoters\n",
    "infile_promoter = f\"/home/jbreda/Promoterome/results/{genome}/promoterome_pm{window_kb}kb_filtered_clustered.bed\"\n",
    "promoterome = pd.read_csv(infile_promoter ,sep='\\t')\n",
    "CHR = promoterome.chr.unique()\n",
    "\n",
    "# load chip table\n",
    "infile=f\"../resources/experimentList_v3_{genome}_TFs_only_QC_filtered.tab\"\n",
    "experiment_tf = pd.read_csv(infile,sep='\\t',usecols=[0,3])\n",
    "experiment_tf.columns = ['id','antigen']\n",
    "\n",
    "TFs = experiment_tf.antigen.unique()"
   ]
  },
  {
   "cell_type": "code",
   "execution_count": 8,
   "metadata": {},
   "outputs": [],
   "source": [
    "tf = 'Tead1'\n",
    "IDs = list(experiment_tf.loc[experiment_tf.antigen==tf,'id'])\n",
    "\n",
    "# load peak table\n",
    "infile=f\"../results/{genome}/Peak_tables/Window_pm{window_kb}kb/{tf}.bed\"\n",
    "peaks = pd.read_csv(infile,sep='\\t')\n",
    "peak_tensor = np.zeros((len(CHR),len(promoterome),len(IDs)))"
   ]
  },
  {
   "cell_type": "code",
   "execution_count": 12,
   "metadata": {},
   "outputs": [
    {
     "data": {
      "text/plain": [
       "<Axes: >"
      ]
     },
     "execution_count": 12,
     "metadata": {},
     "output_type": "execute_result"
    },
    {
     "data": {
      "image/png": "[encoded data removed]",
      "text/plain": [
       "<Figure size 800x600 with 1 Axes>"
      ]
     },
     "metadata": {},
     "output_type": "display_data"
    }
   ],
   "source": [
    "fig, ax = plt.subplots(1,1,figsize=(8,6))\n",
    "\n",
    "peaks.score.hist(bins=100,ax=ax)"
   ]
  },
  {
   "cell_type": "code",
   "execution_count": 35,
   "metadata": {},
   "outputs": [
    {
     "name": "stderr",
     "output_type": "stream",
     "text": [
      "/tmp/ipykernel_1441885/2768748139.py:3: FutureWarning: You are using `torch.load` with `weights_only=False` (the current default value), which uses the default pickle module implicitly. It is possible to construct malicious pickle data which will execute arbitrary code during unpickling (See https://github.com/pytorch/pytorch/blob/main/SECURITY.md#untrusted-models for more details). In a future release, the default value for `weights_only` will be flipped to `True`. This limits the functions that could be executed during unpickling. Arbitrary objects will no longer be allowed to be loaded via this mode unless they are explicitly allowlisted by the user via `torch.serialization.add_safe_globals`. We recommend you start setting `weights_only=True` for any use case where you don't have full control of the loaded file. Please open an issue on GitHub for any issues related to this experimental feature.\n",
      "  peaks = torch.load(infile)\n"
     ]
    }
   ],
   "source": [
    "# load peak table\n",
    "infile=f\"../results/{genome}/Peak_tensors/Window_pm{window_kb}kb/PeakCenter_mean_sparse_tensor_prom_tf_position.pt\"\n",
    "peaks = torch.load(infile)"
   ]
  },
  {
   "cell_type": "code",
   "execution_count": 36,
   "metadata": {},
   "outputs": [
    {
     "data": {
      "text/plain": [
       "tensor(indices=tensor([[    3,     5,    12,  ..., 24418, 24418, 24419],\n",
       "                       [    0,     0,     0,  ...,   710,   710,   710],\n",
       "                       [ 4614,  4892,  4962,  ...,  2234,  8286,  6780]]),\n",
       "       values=tensor([ 32.3333, 154.5542, 166.2271,  ..., 150.0000,\n",
       "                      211.0000, 130.0000]),\n",
       "       size=(24424, 711, 10000), nnz=9144025, dtype=torch.float64,\n",
       "       layout=torch.sparse_coo)"
      ]
     },
     "execution_count": 36,
     "metadata": {},
     "output_type": "execute_result"
    }
   ],
   "source": [
    "peaks"
   ]
  }
 ],
 "metadata": {
  "kernelspec": {
   "display_name": "chip",
   "language": "python",
   "name": "python3"
  },
  "language_info": {
   "codemirror_mode": {
    "name": "ipython",
    "version": 3
   },
   "file_extension": ".py",
   "mimetype": "text/x-python",
   "name": "python",
   "nbconvert_exporter": "python",
   "pygments_lexer": "ipython3",
   "version": "3.12.5"
  }
 },
 "nbformat": 4,
 "nbformat_minor": 2
}
