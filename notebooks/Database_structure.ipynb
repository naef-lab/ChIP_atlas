{
 "cells": [
  {
   "cell_type": "code",
   "execution_count": 2,
   "metadata": {},
   "outputs": [],
   "source": [
    "import numpy as np\n",
    "import pandas as pd\n",
    "import h5py"
   ]
  },
  {
   "cell_type": "code",
   "execution_count": 10,
   "metadata": {},
   "outputs": [
    {
     "name": "stdout",
     "output_type": "stream",
     "text": [
      "TF E2f1\n",
      "bin_size 10\n",
      "exp_id SRX122390,SRX122391,SRX122392,SRX122393,SRX2897262,SRX2897263\n",
      "failed_bw \n",
      "genome mm10\n",
      "promoterome /home/jbreda/Promoterome/results/mm10/promoterome_pm5kb_filtered.bed\n",
      "window_kb 5\n"
     ]
    }
   ],
   "source": [
    "tf = 'E2f1'\n",
    "hf = h5py.File(f'../results/mm10/Chip_tensors/Window_pm5kb_bin_size_20/{tf}.hdf5', 'r')\n",
    "hf['chip_prom_pos_exp'].shape\n",
    "\n",
    "for att in hf['chip_prom_pos_exp'].attrs.keys():\n",
    "    print(att,hf['chip_prom_pos_exp'].attrs[att])"
   ]
  },
  {
   "cell_type": "code",
   "execution_count": 12,
   "metadata": {},
   "outputs": [
    {
     "name": "stdout",
     "output_type": "stream",
     "text": [
      "(28807, 10000, 6)\n",
      "TF E2f1\n",
      "experiment_id SRX122390,SRX122391,SRX122392,SRX122393,SRX2897262,SRX2897263\n",
      "genome mm10\n",
      "promoterome /home/jbreda/Promoterome/results/mm10/promoterome_pm5kb_filtered.bed\n",
      "window_kb 5\n"
     ]
    }
   ],
   "source": [
    "tf = 'E2f1'\n",
    "hf = h5py.File(f'../results/mm10/Peak_tensors/Window_pm5kb/{tf}.hdf5', 'r')\n",
    "hf['peak_prom_pos_exp'].shape\n",
    "X = hf['peak_prom_pos_exp'][:]\n",
    "print(X.shape)\n",
    "\n",
    "for att in hf['peak_prom_pos_exp'].attrs.keys():\n",
    "    print(att,hf['peak_prom_pos_exp'].attrs[att])"
   ]
  },
  {
   "cell_type": "code",
   "execution_count": 14,
   "metadata": {},
   "outputs": [
    {
     "name": "stdout",
     "output_type": "stream",
     "text": [
      "(443, 1000, 28807)\n"
     ]
    }
   ],
   "source": [
    "f = '../results/mm10/svd/Window_pm5kb_bin_size_10/tensor_TFsvd1_pos_prom.hdf5'\n",
    "hf = h5py.File(f, 'r')\n",
    "print( hf['tf_pos_prom'].shape )"
   ]
  },
  {
   "cell_type": "code",
   "execution_count": 19,
   "metadata": {},
   "outputs": [
    {
     "data": {
      "text/plain": [
       "(443, 1000, 28807)"
      ]
     },
     "execution_count": 19,
     "metadata": {},
     "output_type": "execute_result"
    }
   ],
   "source": []
  }
 ],
 "metadata": {
  "kernelspec": {
   "display_name": "work_env",
   "language": "python",
   "name": "python3"
  },
  "language_info": {
   "codemirror_mode": {
    "name": "ipython",
    "version": 3
   },
   "file_extension": ".py",
   "mimetype": "text/x-python",
   "name": "python",
   "nbconvert_exporter": "python",
   "pygments_lexer": "ipython3",
   "version": "3.12.2"
  }
 },
 "nbformat": 4,
 "nbformat_minor": 2
}
